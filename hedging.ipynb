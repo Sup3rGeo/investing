{
 "cells": [
  {
   "cell_type": "markdown",
   "metadata": {},
   "source": [
    "# The case for hedging\n",
    "\n",
    "This notebook contains simple calculations for conveying the point that avoiding losses is better than being exposed to higher returns - which is equivalent to Buffett's rule of (1) Don't lose money and (2) Don't forget rule n.1."
   ]
  },
  {
   "cell_type": "markdown",
   "metadata": {},
   "source": [
    "## Base scenario\n",
    "\n",
    "Let's consider a yearly return of 15%, during 10 years:"
   ]
  },
  {
   "cell_type": "code",
   "execution_count": 1,
   "metadata": {},
   "outputs": [
    {
     "data": {
      "text/plain": [
       "4.045557735707907"
      ]
     },
     "execution_count": 1,
     "metadata": {},
     "output_type": "execute_result"
    }
   ],
   "source": [
    "1.15**10"
   ]
  },
  {
   "cell_type": "markdown",
   "metadata": {},
   "source": [
    "## Scenario 1 - Heavy losses \"Black swan\"\n",
    "\n",
    "Now let's consider that, in one of these years, an unexpected event occurs which causes a loss of 40% of the portfolio value:"
   ]
  },
  {
   "cell_type": "code",
   "execution_count": 2,
   "metadata": {},
   "outputs": [
    {
     "data": {
      "text/plain": [
       "2.1107257751519515"
      ]
     },
     "execution_count": 2,
     "metadata": {},
     "output_type": "execute_result"
    }
   ],
   "source": [
    "1.15**9 * 0.6"
   ]
  },
  {
   "cell_type": "markdown",
   "metadata": {},
   "source": [
    "When exactly it happens does not make a difference. We can see our portfolio value is almost half of the base scenario."
   ]
  },
  {
   "cell_type": "markdown",
   "metadata": {},
   "source": [
    "## Scenario 2 - Be out of the Market\n",
    "\n",
    "The first approach is being out of the market, in case we think the market is overvalued or irrational, with the risk being of missing a bull market rally. Considering we can avoid the 40% loss by being out of the market, let's see how many years we can skip to still be ahead of the naive case where we were exposed to the loss - that is, where we have a final equivalent portfolio of `2.11`."
   ]
  },
  {
   "cell_type": "code",
   "execution_count": 1,
   "metadata": {},
   "outputs": [
    {
     "data": {
      "text/plain": [
       "5.342569907075732"
      ]
     },
     "execution_count": 1,
     "metadata": {},
     "output_type": "execute_result"
    }
   ],
   "source": [
    "from numpy import log as ln\n",
    "ln(2.11)/ln(1.15)"
   ]
  },
  {
   "cell_type": "code",
   "execution_count": 4,
   "metadata": {},
   "outputs": [
    {
     "data": {
      "text/plain": [
       "2.0113571874999994"
      ]
     },
     "execution_count": 4,
     "metadata": {},
     "output_type": "execute_result"
    }
   ],
   "source": [
    "1.15**5"
   ]
  },
  {
   "cell_type": "markdown",
   "metadata": {},
   "source": [
    "This means that we could be out of the market half of the time (provided we in fact avoid the loss during this period) to have the same results as someone that was on the market the whole time and got exposed to the single year loss."
   ]
  },
  {
   "cell_type": "markdown",
   "metadata": {},
   "source": [
    "### Risks of the approach\n",
    "\n",
    "The biggest risk is in case the period out of the market misses the drawdown - in that case, the investor is exposed to the losses AND is not part of many periods where the investment is profitable."
   ]
  },
  {
   "cell_type": "markdown",
   "metadata": {},
   "source": [
    "## Scenario 3 - Insurance\n",
    "\n",
    "Let's suppose we can get rid of some of the yearly returns in order to buy insurance for the portfolio. We can calculate how much of the yearly return we can allow us to give away in order to match the same performance as `Scenario 1`, where we take the loss."
   ]
  },
  {
   "cell_type": "code",
   "execution_count": 5,
   "metadata": {},
   "outputs": [
    {
     "data": {
      "text/plain": [
       "1.077527209107429"
      ]
     },
     "execution_count": 5,
     "metadata": {},
     "output_type": "execute_result"
    }
   ],
   "source": [
    "2.11**(1/10)"
   ]
  },
  {
   "cell_type": "code",
   "execution_count": 7,
   "metadata": {},
   "outputs": [
    {
     "data": {
      "text/plain": [
       "2.158924997272788"
      ]
     },
     "execution_count": 7,
     "metadata": {},
     "output_type": "execute_result"
    }
   ],
   "source": [
    "1.08**10"
   ]
  },
  {
   "cell_type": "markdown",
   "metadata": {},
   "source": [
    "As we can see, the single year loss lowered the return of the portfolio down to 8%. It means that any insurance-like position that expends up to 7% (15-8) of the yearly returns, but avoids the single 40% drawdown, is valuable for the investor and improves the overall portfolio return."
   ]
  },
  {
   "cell_type": "markdown",
   "metadata": {},
   "source": [
    "## Risks of the approach\n",
    "\n",
    "The risk is the insurance not covering the drawdown, while still being expensive in terms of the lower return on the long run."
   ]
  },
  {
   "cell_type": "code",
   "execution_count": null,
   "metadata": {},
   "outputs": [],
   "source": []
  }
 ],
 "metadata": {
  "kernelspec": {
   "display_name": "Python 3",
   "language": "python",
   "name": "python3"
  },
  "language_info": {
   "codemirror_mode": {
    "name": "ipython",
    "version": 3
   },
   "file_extension": ".py",
   "mimetype": "text/x-python",
   "name": "python",
   "nbconvert_exporter": "python",
   "pygments_lexer": "ipython3",
   "version": "3.8.2"
  }
 },
 "nbformat": 4,
 "nbformat_minor": 4
}
